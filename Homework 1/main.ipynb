{
 "cells": [
  {
   "cell_type": "code",
   "execution_count": 6,
   "id": "b7694835",
   "metadata": {},
   "outputs": [],
   "source": [
    "import string\n",
    "import nltk\n",
    "from nltk.tokenize import word_tokenize\n",
    "from nltk.corpus import stopwords\n",
    "from collections import Counter\n",
    "import pandas as pd"
   ]
  },
  {
   "cell_type": "code",
   "execution_count": 7,
   "id": "9e0a7e69",
   "metadata": {},
   "outputs": [],
   "source": [
    "# Task 1: Reading and Writing Files\n",
    "# Python code to read input_text.txt and remove whitespace (strip) and lowercase them and write 'em in lowercase_output.txt\n",
    "with open(\"input_text.txt\", \"r\") as file, open(\"lowercase_output.txt\", \"w\") as outputfile:\n",
    "    for i in range(20):\n",
    "        line = file.readline()\n",
    "        if not line:\n",
    "            break\n",
    "        content = line.strip().lower()\n",
    "        # print(content)\n",
    "        outputfile.write(content + \"\\n\") "
   ]
  },
  {
   "cell_type": "code",
   "execution_count": 8,
   "id": "8c8aaa93",
   "metadata": {},
   "outputs": [
    {
     "name": "stdout",
     "output_type": "stream",
     "text": [
      "Cleaned text saved successfully!\n"
     ]
    }
   ],
   "source": [
    "# Task 2: Text Cleaning\n",
    "# Open the lowercase_output.txt file and read content\n",
    "with open(\"lowercase_output.txt\", \"r\") as infile:\n",
    "    text = infile.read()\n",
    "\n",
    "# Remove punctuation and digits\n",
    "cleaned_text = ''\n",
    "for char in text:\n",
    "    if char not in string.punctuation and not char.isdigit():\n",
    "        cleaned_text += char\n",
    "\n",
    "# Remove extra spaces\n",
    "cleaned_text = ' '.join(cleaned_text.split())\n",
    "\n",
    "# Write the cleaned text to a new file\n",
    "with open(\"cleaned_output.txt\", \"w\") as outfile:\n",
    "    outfile.write(cleaned_text)\n",
    "\n",
    "print(\"Cleaned text saved successfully!\")"
   ]
  },
  {
   "cell_type": "code",
   "execution_count": 9,
   "id": "106442e4",
   "metadata": {},
   "outputs": [
    {
     "name": "stdout",
     "output_type": "stream",
     "text": [
      "Total tokens before stopword removal: 119\n",
      "Total tokens after stopword removal: 63\n",
      "Vocabulary size (unique words): 50\n"
     ]
    },
    {
     "name": "stderr",
     "output_type": "stream",
     "text": [
      "[nltk_data] Downloading package punkt to /home/codespace/nltk_data...\n",
      "[nltk_data]   Package punkt is already up-to-date!\n",
      "[nltk_data] Downloading package punkt_tab to\n",
      "[nltk_data]     /home/codespace/nltk_data...\n",
      "[nltk_data]   Package punkt_tab is already up-to-date!\n",
      "[nltk_data] Downloading package stopwords to\n",
      "[nltk_data]     /home/codespace/nltk_data...\n",
      "[nltk_data]   Package stopwords is already up-to-date!\n"
     ]
    }
   ],
   "source": [
    "# Task 3: Tokenization and Analysis\n",
    "# Download NLTK resources\n",
    "nltk.download('punkt')\n",
    "nltk.download('punkt_tab')\n",
    "nltk.download('stopwords')\n",
    "\n",
    "# Read cleaned text\n",
    "with open(\"cleaned_output.txt\", \"r\") as file:\n",
    "    text = file.read()\n",
    "\n",
    "# Tokenize into words\n",
    "tokens = word_tokenize(text)\n",
    "\n",
    "# Remove stopwords\n",
    "stop_words = set(stopwords.words(\"english\"))\n",
    "filtered_tokens = [word for word in tokens if word.lower() not in stop_words]\n",
    "\n",
    "# Counts\n",
    "total_tokens_before = len(tokens)\n",
    "total_tokens_after = len(filtered_tokens)\n",
    "vocabulary_size = len(set(filtered_tokens))\n",
    "\n",
    "# Display results\n",
    "print(f\"Total tokens before stopword removal: {total_tokens_before}\")\n",
    "print(f\"Total tokens after stopword removal: {total_tokens_after}\")\n",
    "print(f\"Vocabulary size (unique words): {vocabulary_size}\")"
   ]
  },
  {
   "cell_type": "code",
   "execution_count": 10,
   "id": "c7bc7b7e",
   "metadata": {},
   "outputs": [
    {
     "name": "stdout",
     "output_type": "stream",
     "text": [
      "Top 20 most common words:\n",
      "ebook: 5\n",
      "project: 2\n",
      "gutenberg: 2\n",
      "practical: 2\n",
      "mechanics: 2\n",
      "boys: 2\n",
      "united: 2\n",
      "states: 2\n",
      "online: 2\n",
      "located: 2\n",
      "use: 1\n",
      "anyone: 1\n",
      "anywhere: 1\n",
      "parts: 1\n",
      "world: 1\n",
      "cost: 1\n",
      "almost: 1\n",
      "restrictions: 1\n",
      "whatsoever: 1\n",
      "may: 1\n",
      "\n",
      "Word frequency table saved to word_frequency.csv\n"
     ]
    }
   ],
   "source": [
    "# TASK 4: Word Frequency Analysis\n",
    "# Count word frequency\n",
    "word_counts = Counter(filtered_tokens)\n",
    "\n",
    "# Top 20 words\n",
    "top_20 = word_counts.most_common(20)\n",
    "print(\"Top 20 most common words:\")\n",
    "for word, count in top_20:\n",
    "    print(f\"{word}: {count}\")\n",
    "\n",
    "# Save full frequency table to CSV\n",
    "df = pd.DataFrame(word_counts.items(), columns=['Word', 'Frequency'])\n",
    "df = df.sort_values(by=\"Frequency\", ascending=False)\n",
    "df.to_csv(\"word_frequency.csv\", index=False)\n",
    "\n",
    "print(\"\\nWord frequency table saved to word_frequency.csv\")"
   ]
  },
  {
   "cell_type": "code",
   "execution_count": null,
   "id": "ad295b96",
   "metadata": {},
   "outputs": [],
   "source": []
  }
 ],
 "metadata": {
  "kernelspec": {
   "display_name": "Python 3",
   "language": "python",
   "name": "python3"
  },
  "language_info": {
   "codemirror_mode": {
    "name": "ipython",
    "version": 3
   },
   "file_extension": ".py",
   "mimetype": "text/x-python",
   "name": "python",
   "nbconvert_exporter": "python",
   "pygments_lexer": "ipython3",
   "version": "3.12.1"
  }
 },
 "nbformat": 4,
 "nbformat_minor": 5
}
