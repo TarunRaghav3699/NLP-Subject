{
 "cells": [
  {
   "cell_type": "code",
   "execution_count": null,
   "id": "b7694835",
   "metadata": {},
   "outputs": [],
   "source": [
    "# Python code to read input_text.txt\n",
    "with open(\"input_text.txt\",\"r\") as file:\n",
    "    content = file.read()\n",
    "    print(content)"
   ]
  },
  {
   "cell_type": "code",
   "execution_count": null,
   "id": "9e0a7e69",
   "metadata": {
    "vscode": {
     "languageId": "plaintext"
    }
   },
   "outputs": [],
   "source": []
  }
 ],
 "metadata": {
  "language_info": {
   "name": "python"
  }
 },
 "nbformat": 4,
 "nbformat_minor": 5
}
